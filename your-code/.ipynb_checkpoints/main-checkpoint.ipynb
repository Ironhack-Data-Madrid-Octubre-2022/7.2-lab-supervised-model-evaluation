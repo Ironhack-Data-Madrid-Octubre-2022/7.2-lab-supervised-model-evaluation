{
 "cells": [
  {
   "cell_type": "markdown",
   "metadata": {},
   "source": [
    "# Supervised Learning Model Evaluation Lab\n",
    "\n",
    "Complete the exercises below to solidify your knowledge and understanding of supervised learning model evaluation."
   ]
  },
  {
   "cell_type": "code",
   "execution_count": 7,
   "metadata": {},
   "outputs": [],
   "source": [
    "import warnings\n",
    "warnings.filterwarnings('ignore')\n",
    "\n",
    "\n",
    "import pylab as plt\n",
    "import seaborn as sns\n",
    "\n",
    "%matplotlib inline\n",
    "\n",
    "import pandas as pd                                # panel data, for handling dataframes\n",
    "pd.set_option('display.max_columns', None)         # show all columns of the dataframe\n",
    "\n",
    "import numpy as np                                 # numerical python, linear algebra library\n",
    "\n",
    "import pylab as plt                                # plotting library\n",
    "import seaborn as sns                              # plotting library\n",
    "sns.set(style='white')                             # seaborn style\n",
    "\n",
    "\n",
    "from sklearn.linear_model import LogisticRegression            # clasificar, logistic regression model   \n",
    "\n",
    "from sklearn.preprocessing import StandardScaler               # standarized\n",
    "from sklearn.preprocessing import LabelEncoder               \n",
    "\n",
    "from sklearn.model_selection import train_test_split as tts \n",
    "from sklearn.metrics import mean_squared_error as mse"
   ]
  },
  {
   "cell_type": "markdown",
   "metadata": {},
   "source": [
    "## Regression Model Evaluation"
   ]
  },
  {
   "cell_type": "code",
   "execution_count": 4,
   "metadata": {},
   "outputs": [],
   "source": [
    "from sklearn.datasets import load_boston\n",
    "\n",
    "data = load_boston()\n",
    "\n",
    "X = pd.DataFrame(data[\"data\"], columns=data[\"feature_names\"])\n",
    "y = pd.DataFrame(data[\"target\"], columns=['MEDV'])\n",
    "\n",
    "data = pd.concat([X, y], axis=1)"
   ]
  },
  {
   "cell_type": "markdown",
   "metadata": {},
   "source": [
    "## 1. Split this data set into training (80%) and testing (20%) sets.\n",
    "\n",
    "The `MEDV` field represents the median value of owner-occupied homes (in $1000's) and is the target variable that we will want to predict."
   ]
  },
  {
   "cell_type": "code",
   "execution_count": 5,
   "metadata": {},
   "outputs": [
    {
     "data": {
      "text/plain": [
       "((404, 13), (102, 13), (404, 1), (102, 1))"
      ]
     },
     "execution_count": 5,
     "metadata": {},
     "output_type": "execute_result"
    }
   ],
   "source": [
    "\n",
    "X_train, X_test, y_train, y_test = tts(X, y, train_size=0.8, test_size=0.2, random_state=22)\n",
    "\n",
    "X_train.shape, X_test.shape, y_train.shape, y_test.shape"
   ]
  },
  {
   "cell_type": "markdown",
   "metadata": {},
   "source": [
    "## 2. Train a `LinearRegression` model on this data set and generate predictions on both the training and the testing set."
   ]
  },
  {
   "cell_type": "code",
   "execution_count": 26,
   "metadata": {},
   "outputs": [
    {
     "name": "stdout",
     "output_type": "stream",
     "text": [
      "[[27.99617259]\n",
      " [31.37458822]\n",
      " [21.16274236]\n",
      " [32.97684211]\n",
      " [19.85350998]\n",
      " [19.20417092]\n",
      " [21.07981458]\n",
      " [19.43179838]\n",
      " [19.55995513]\n",
      " [32.46251423]\n",
      " [20.95643087]\n",
      " [27.76018784]\n",
      " [15.39262695]\n",
      " [19.6442985 ]\n",
      " [36.52126959]\n",
      " [18.64394966]\n",
      " [ 8.93258608]\n",
      " [18.30021084]\n",
      " [30.44252024]\n",
      " [24.30768161]\n",
      " [19.25674385]\n",
      " [33.77398082]\n",
      " [29.85656182]\n",
      " [17.6870715 ]\n",
      " [34.76784961]\n",
      " [26.40009819]\n",
      " [34.60438567]\n",
      " [27.32689821]\n",
      " [19.24589917]\n",
      " [14.83463871]\n",
      " [30.57090061]\n",
      " [15.46969575]\n",
      " [37.09516033]\n",
      " [ 7.00967398]\n",
      " [16.15634365]\n",
      " [17.44040193]\n",
      " [ 7.35639245]\n",
      " [20.22713119]\n",
      " [40.76195302]\n",
      " [28.77723574]\n",
      " [25.15616291]\n",
      " [17.83858135]\n",
      " [39.41405113]\n",
      " [ 7.01259096]\n",
      " [22.06502935]\n",
      " [25.1857296 ]\n",
      " [20.23571567]\n",
      " [20.29713521]\n",
      " [17.46268122]\n",
      " [26.21457012]\n",
      " [ 8.54093689]\n",
      " [27.39499407]\n",
      " [30.85069122]\n",
      " [16.66356032]\n",
      " [ 9.32950573]\n",
      " [35.17417878]\n",
      " [32.19041763]\n",
      " [21.85580143]\n",
      " [17.42877945]\n",
      " [21.9784194 ]\n",
      " [23.49485953]\n",
      " [23.98615371]\n",
      " [19.99362404]\n",
      " [38.29415052]\n",
      " [24.6854627 ]\n",
      " [20.00405044]\n",
      " [13.97439271]\n",
      " [ 6.75563393]\n",
      " [42.12286805]\n",
      " [21.90181891]\n",
      " [16.96618423]\n",
      " [22.41014979]\n",
      " [40.43814159]\n",
      " [21.39704278]\n",
      " [36.54107982]\n",
      " [27.02184938]\n",
      " [20.86435197]\n",
      " [20.20989601]\n",
      " [25.23282952]\n",
      " [22.09034092]\n",
      " [31.02297114]\n",
      " [20.28759449]\n",
      " [24.25986656]\n",
      " [31.37575515]\n",
      " [26.70629065]\n",
      " [21.09919693]\n",
      " [28.92018399]\n",
      " [21.82055488]\n",
      " [26.31821902]\n",
      " [19.69611634]\n",
      " [25.35744988]\n",
      " [24.45514806]\n",
      " [20.07329789]\n",
      " [15.73996971]\n",
      " [15.33732169]\n",
      " [18.6504852 ]\n",
      " [24.6741861 ]\n",
      " [16.51788689]\n",
      " [21.16432291]\n",
      " [26.46888071]\n",
      " [21.00213732]\n",
      " [18.01814407]] [[23.88577067]\n",
      " [23.1522804 ]\n",
      " [21.18821954]\n",
      " [37.07763342]\n",
      " [15.69510401]\n",
      " [21.50273908]\n",
      " [32.77487204]\n",
      " [34.25179005]\n",
      " [20.37425462]\n",
      " [26.59769519]\n",
      " [22.53089943]\n",
      " [17.45946805]\n",
      " [21.55758206]\n",
      " [21.43220427]\n",
      " [27.45254627]\n",
      " [24.82572426]\n",
      " [23.52410521]\n",
      " [14.79915148]\n",
      " [14.85628634]\n",
      " [ 3.83980586]\n",
      " [28.99480774]\n",
      " [20.85818073]\n",
      " [22.2684403 ]\n",
      " [27.89006679]\n",
      " [28.12109513]\n",
      " [22.17015052]\n",
      " [25.39595863]\n",
      " [22.27977152]\n",
      " [ 2.02359255]\n",
      " [41.73387513]\n",
      " [38.82559246]\n",
      " [27.23706761]\n",
      " [30.94360174]\n",
      " [21.32321972]\n",
      " [37.27285246]\n",
      " [14.52788858]\n",
      " [20.47641849]\n",
      " [13.86148384]\n",
      " [42.91920722]\n",
      " [18.81773541]\n",
      " [35.59235663]\n",
      " [25.31125999]\n",
      " [ 8.59356439]\n",
      " [25.06122734]\n",
      " [28.07709564]\n",
      " [32.6017003 ]\n",
      " [14.988971  ]\n",
      " [ 9.07790961]\n",
      " [23.6277274 ]\n",
      " [18.34285228]\n",
      " [28.73005868]\n",
      " [32.00692763]\n",
      " [24.70074605]\n",
      " [17.59479818]\n",
      " [28.14213094]\n",
      " [38.4890058 ]\n",
      " [ 7.71188597]\n",
      " [20.41802625]\n",
      " [20.28054405]\n",
      " [30.33262856]\n",
      " [17.47384477]\n",
      " [35.5271153 ]\n",
      " [35.86083862]\n",
      " [36.4794158 ]\n",
      " [20.74559685]\n",
      " [17.11861877]\n",
      " [26.31733075]\n",
      " [19.77348444]\n",
      " [13.12169743]\n",
      " [22.70367709]\n",
      " [22.53361194]\n",
      " [36.08323363]\n",
      " [25.45226723]\n",
      " [28.79280139]\n",
      " [40.37580064]\n",
      " [13.22610264]\n",
      " [ 8.71960935]\n",
      " [26.96657924]\n",
      " [15.79653086]\n",
      " [32.69280909]\n",
      " [19.81866064]\n",
      " [19.36542247]\n",
      " [27.89530456]\n",
      " [18.96008923]\n",
      " [19.66073035]\n",
      " [17.51469821]\n",
      " [23.21135657]\n",
      " [25.76757412]\n",
      " [18.76076984]\n",
      " [22.53468098]\n",
      " [15.10555256]\n",
      " [23.97094018]\n",
      " [13.70988319]\n",
      " [ 8.26181899]\n",
      " [27.03560062]\n",
      " [22.57043222]\n",
      " [20.14121961]\n",
      " [16.10840603]\n",
      " [15.11117324]\n",
      " [23.65281751]\n",
      " [13.49338432]\n",
      " [13.59881501]\n",
      " [20.83738616]\n",
      " [24.13259037]\n",
      " [14.04485972]\n",
      " [30.0618175 ]\n",
      " [23.33220811]\n",
      " [22.66263248]\n",
      " [20.41936728]\n",
      " [19.21988632]\n",
      " [33.8100127 ]\n",
      " [20.49933742]\n",
      " [31.05139771]\n",
      " [32.4646035 ]\n",
      " [31.76932258]\n",
      " [26.62879844]\n",
      " [24.64951903]\n",
      " [20.74042194]\n",
      " [18.67115263]\n",
      " [22.64580341]\n",
      " [11.67301866]\n",
      " [27.03676077]\n",
      " [45.1016907 ]\n",
      " [12.12876638]\n",
      " [32.00616684]\n",
      " [23.74893305]\n",
      " [18.83076459]\n",
      " [23.12245938]\n",
      " [14.27561241]\n",
      " [19.67889249]\n",
      " [16.36012795]\n",
      " [18.34656292]\n",
      " [32.74965848]\n",
      " [32.8491507 ]\n",
      " [24.54845924]\n",
      " [16.41555009]\n",
      " [31.6591916 ]\n",
      " [23.43595598]\n",
      " [25.39744865]\n",
      " [21.41719757]\n",
      " [36.09164045]\n",
      " [21.21511646]\n",
      " [19.11446398]\n",
      " [25.32365341]\n",
      " [19.48164134]\n",
      " [28.22430745]\n",
      " [ 9.24542759]\n",
      " [16.1159408 ]\n",
      " [12.74289783]\n",
      " [33.51590509]\n",
      " [36.27443947]\n",
      " [13.35389372]\n",
      " [12.65041001]\n",
      " [34.58295784]\n",
      " [24.88312734]\n",
      " [ 3.9246761 ]\n",
      " [23.39994669]\n",
      " [26.4996337 ]\n",
      " [24.77156474]\n",
      " [36.03998485]\n",
      " [18.64749631]\n",
      " [24.29873476]\n",
      " [25.11295724]\n",
      " [21.29066956]\n",
      " [32.52070469]\n",
      " [35.78550743]\n",
      " [20.8117426 ]\n",
      " [16.79387962]\n",
      " [24.32637338]\n",
      " [33.98880949]\n",
      " [35.76311274]\n",
      " [28.81379701]\n",
      " [22.80933147]\n",
      " [23.78116371]\n",
      " [26.8406221 ]\n",
      " [20.12442199]\n",
      " [21.66500803]\n",
      " [24.0948788 ]\n",
      " [31.48567176]\n",
      " [16.07220195]\n",
      " [ 7.92339023]\n",
      " [19.80328076]\n",
      " [27.58329848]\n",
      " [29.00050883]\n",
      " [19.99501696]\n",
      " [20.59261787]\n",
      " [18.55170167]\n",
      " [27.48073802]\n",
      " [16.86026226]\n",
      " [20.8680373 ]\n",
      " [17.48971814]\n",
      " [31.2008203 ]\n",
      " [22.9473534 ]\n",
      " [20.32425972]\n",
      " [25.90598978]\n",
      " [25.5872382 ]\n",
      " [ 7.49951743]\n",
      " [16.7294187 ]\n",
      " [34.23349058]\n",
      " [17.30295644]\n",
      " [33.25807568]\n",
      " [21.57032373]\n",
      " [25.98180078]\n",
      " [16.19783199]\n",
      " [33.48777924]\n",
      " [17.58346443]\n",
      " [25.27957654]\n",
      " [21.35831771]\n",
      " [29.64400233]\n",
      " [22.91053101]\n",
      " [17.60283699]\n",
      " [28.87997968]\n",
      " [21.81034184]\n",
      " [18.24923343]\n",
      " [21.7776441 ]\n",
      " [23.2953739 ]\n",
      " [13.55319189]\n",
      " [28.50185528]\n",
      " [11.6541732 ]\n",
      " [-3.71957738]\n",
      " [32.352239  ]\n",
      " [17.61011259]\n",
      " [ 1.30545913]\n",
      " [ 4.12943906]\n",
      " [18.64543563]\n",
      " [33.86828848]\n",
      " [22.34789082]\n",
      " [26.74848048]\n",
      " [23.39738136]\n",
      " [29.79314841]\n",
      " [16.47466806]\n",
      " [42.85316414]\n",
      " [19.68916413]\n",
      " [24.79989584]\n",
      " [13.36152269]\n",
      " [14.03940801]\n",
      " [13.74217114]\n",
      " [18.14729756]\n",
      " [28.66840677]\n",
      " [15.92779997]\n",
      " [22.74754584]\n",
      " [23.09872692]\n",
      " [20.45579849]\n",
      " [23.32692076]\n",
      " [36.5004882 ]\n",
      " [20.78457915]\n",
      " [23.24970229]\n",
      " [27.86846265]\n",
      " [38.14205072]\n",
      " [30.39683332]\n",
      " [22.72873681]\n",
      " [25.61382903]\n",
      " [17.85763578]\n",
      " [30.87376434]\n",
      " [40.62768063]\n",
      " [18.06006236]\n",
      " [18.83506626]\n",
      " [23.21511559]\n",
      " [34.79216903]\n",
      " [14.7330432 ]\n",
      " [37.60528036]\n",
      " [21.99858293]\n",
      " [20.78046006]\n",
      " [30.21527671]\n",
      " [18.00826419]\n",
      " [19.40807679]\n",
      " [22.10604358]\n",
      " [30.81686711]\n",
      " [19.69144325]\n",
      " [25.48636482]\n",
      " [28.82748302]\n",
      " [24.34785321]\n",
      " [24.42514756]\n",
      " [26.40281784]\n",
      " [13.92632067]\n",
      " [18.54687962]\n",
      " [34.07181274]\n",
      " [35.79296394]\n",
      " [ 5.45575983]\n",
      " [21.18722568]\n",
      " [27.60237129]\n",
      " [32.92463298]\n",
      " [17.04187164]\n",
      " [17.57331275]\n",
      " [34.20297716]\n",
      " [17.98568845]\n",
      " [11.39913022]\n",
      " [22.45367298]\n",
      " [21.34900592]\n",
      " [23.55746441]\n",
      " [29.24881107]\n",
      " [26.69845439]\n",
      " [10.12044135]\n",
      " [30.48111832]\n",
      " [33.03202465]\n",
      " [22.72481137]\n",
      " [14.8694737 ]\n",
      " [19.04688434]\n",
      " [27.70332676]\n",
      " [24.0257021 ]\n",
      " [37.27239821]\n",
      " [11.25392708]\n",
      " [20.99583921]\n",
      " [30.76326496]\n",
      " [25.4616782 ]\n",
      " [24.02397394]\n",
      " [15.88426446]\n",
      " [14.71774422]\n",
      " [25.27897291]\n",
      " [39.95361367]\n",
      " [17.71574359]\n",
      " [24.29983996]\n",
      " [32.55957653]\n",
      " [23.48334633]\n",
      " [14.23096287]\n",
      " [19.42786293]\n",
      " [17.25453976]\n",
      " [30.71064984]\n",
      " [28.72757467]\n",
      " [27.77169575]\n",
      " [16.64604413]\n",
      " [13.9513287 ]\n",
      " [12.68612404]\n",
      " [20.91710887]\n",
      " [17.83022428]\n",
      " [16.62378125]\n",
      " [24.80587898]\n",
      " [18.76477587]\n",
      " [12.34441252]\n",
      " [21.0167941 ]\n",
      " [25.24795826]\n",
      " [20.4649592 ]\n",
      " [ 6.333757  ]\n",
      " [28.60300966]\n",
      " [11.22210259]\n",
      " [21.65223097]\n",
      " [20.94046332]\n",
      " [23.76695061]\n",
      " [23.20176556]\n",
      " [14.06177276]\n",
      " [12.53552465]\n",
      " [25.12063888]\n",
      " [18.78138741]\n",
      " [12.23994803]\n",
      " [ 8.46732651]\n",
      " [17.8364923 ]\n",
      " [24.38641294]\n",
      " [25.37856639]\n",
      " [25.22880441]\n",
      " [24.53342113]\n",
      " [19.21507361]\n",
      " [14.26386853]\n",
      " [20.74519816]\n",
      " [30.40881472]\n",
      " [17.54800806]\n",
      " [14.77009172]\n",
      " [23.54920754]\n",
      " [27.43504981]\n",
      " [16.96547193]\n",
      " [16.71460808]\n",
      " [19.62139653]\n",
      " [34.9484442 ]\n",
      " [28.35711885]\n",
      " [14.02766628]\n",
      " [19.95237372]\n",
      " [20.24102883]\n",
      " [18.68089447]\n",
      " [31.36531031]\n",
      " [33.80834187]\n",
      " [13.69627218]\n",
      " [21.66430837]\n",
      " [23.72500645]\n",
      " [27.06764408]\n",
      " [22.9680638 ]\n",
      " [21.2613598 ]\n",
      " [40.75398934]\n",
      " [21.71218486]\n",
      " [14.95321586]\n",
      " [11.10890825]\n",
      " [15.94021905]\n",
      " [25.49398572]\n",
      " [10.56203477]\n",
      " [13.67193724]\n",
      " [10.40040817]\n",
      " [33.79065819]\n",
      " [13.62887742]\n",
      " [28.94144975]\n",
      " [23.12565023]\n",
      " [21.94833092]\n",
      " [25.23892605]\n",
      " [19.6034801 ]\n",
      " [14.94630722]\n",
      " [12.07070744]\n",
      " [20.19367162]\n",
      " [22.58557476]\n",
      " [10.47262381]\n",
      " [24.88454622]\n",
      " [14.15713575]\n",
      " [23.82546577]\n",
      " [21.23693977]\n",
      " [18.17919   ]\n",
      " [30.38294015]\n",
      " [20.30257789]\n",
      " [ 6.68890059]]\n"
     ]
    }
   ],
   "source": [
    "# regresion lineal\n",
    "from sklearn.linear_model import LinearRegression as LinReg\n",
    "\n",
    "linreg=LinReg()\n",
    "\n",
    "linreg.fit(X_train, y_train)\n",
    "\n",
    "y_pred=linreg.predict(X_test)\n",
    "\n",
    "y_pred_t=linreg.predict(X_train)\n",
    "\n",
    "print(y_pred,y_pred_t)\n",
    "\n"
   ]
  },
  {
   "cell_type": "markdown",
   "metadata": {},
   "source": [
    "## 3. Calculate and print R-squared for both the training and the testing set."
   ]
  },
  {
   "cell_type": "code",
   "execution_count": 27,
   "metadata": {},
   "outputs": [
    {
     "data": {
      "text/plain": [
       "(0.765746594359112, 0.7295941389826617)"
      ]
     },
     "execution_count": 27,
     "metadata": {},
     "output_type": "execute_result"
    }
   ],
   "source": [
    "from sklearn.metrics import r2_score as r2\n",
    "\n",
    "r2(y_test, y_pred), r2(y_train, y_pred_t)"
   ]
  },
  {
   "cell_type": "markdown",
   "metadata": {},
   "source": [
    "## 4. Calculate and print mean squared error for both the training and the testing set."
   ]
  },
  {
   "cell_type": "code",
   "execution_count": 29,
   "metadata": {},
   "outputs": [
    {
     "data": {
      "text/plain": [
       "(4.557486674063903, 4.747059722420525)"
      ]
     },
     "execution_count": 29,
     "metadata": {},
     "output_type": "execute_result"
    }
   ],
   "source": [
    "mse(y_test, y_pred, squared=False), mse(y_train, y_pred_t, squared=False)"
   ]
  },
  {
   "cell_type": "markdown",
   "metadata": {},
   "source": [
    "## 5. Calculate and print mean absolute error for both the training and the testing set."
   ]
  },
  {
   "cell_type": "code",
   "execution_count": 32,
   "metadata": {},
   "outputs": [
    {
     "data": {
      "text/plain": [
       "(3.4251818718533635, 3.332891470689548)"
      ]
     },
     "execution_count": 32,
     "metadata": {},
     "output_type": "execute_result"
    }
   ],
   "source": [
    "from sklearn.metrics import mean_absolute_error as mae  # estos alias tmb son cosa mia\n",
    "\n",
    "mae(y_test, y_pred), mae(y_train, y_pred_t)"
   ]
  },
  {
   "cell_type": "markdown",
   "metadata": {},
   "source": [
    "## Classification Model Evaluation"
   ]
  },
  {
   "cell_type": "code",
   "execution_count": 33,
   "metadata": {},
   "outputs": [],
   "source": [
    "from sklearn.datasets import load_iris\n",
    "\n",
    "data = load_iris()\n",
    "\n",
    "X = pd.DataFrame(data[\"data\"], columns=data[\"feature_names\"])\n",
    "y = pd.DataFrame(data[\"target\"], columns=[\"class\"])\n",
    "\n",
    "data = pd.concat([X, y], axis=1)"
   ]
  },
  {
   "cell_type": "markdown",
   "metadata": {},
   "source": [
    "## 6. Split this data set into training (80%) and testing (20%) sets.\n",
    "\n",
    "The `class` field represents the type of flower and is the target variable that we will want to predict."
   ]
  },
  {
   "cell_type": "code",
   "execution_count": 34,
   "metadata": {},
   "outputs": [
    {
     "data": {
      "text/plain": [
       "((120, 4), (30, 4), (120, 1), (30, 1))"
      ]
     },
     "execution_count": 34,
     "metadata": {},
     "output_type": "execute_result"
    }
   ],
   "source": [
    "X_train, X_test, y_train, y_test = tts(X, y, train_size=0.8, test_size=0.2, random_state=22)\n",
    "\n",
    "X_train.shape, X_test.shape, y_train.shape, y_test.shape"
   ]
  },
  {
   "cell_type": "markdown",
   "metadata": {},
   "source": [
    "## 7. Train a `LogisticRegression` model on this data set and generate predictions on both the training and the testing set."
   ]
  },
  {
   "cell_type": "code",
   "execution_count": 35,
   "metadata": {},
   "outputs": [
    {
     "data": {
      "text/plain": [
       "LogisticRegression(max_iter=2000)"
      ]
     },
     "execution_count": 35,
     "metadata": {},
     "output_type": "execute_result"
    }
   ],
   "source": [
    "logreg=LogisticRegression(max_iter=2000)\n",
    "\n",
    "logreg.fit(X_train, y_train)"
   ]
  },
  {
   "cell_type": "code",
   "execution_count": 38,
   "metadata": {},
   "outputs": [
    {
     "data": {
      "text/plain": [
       "(array([0, 2, 1, 2, 1, 1, 1, 2, 1, 0]), array([0, 0, 1, 1, 1, 0, 0, 0, 2, 2]))"
      ]
     },
     "execution_count": 38,
     "metadata": {},
     "output_type": "execute_result"
    }
   ],
   "source": [
    "y_pred=logreg.predict(X_test)\n",
    "y_pred_t=logreg.predict(X_train)   \n",
    "\n",
    "y_pred[:10], y_pred_t[:10]"
   ]
  },
  {
   "cell_type": "markdown",
   "metadata": {},
   "source": [
    "## 8. Calculate and print the accuracy score for both the training and the testing set."
   ]
  },
  {
   "cell_type": "code",
   "execution_count": 44,
   "metadata": {},
   "outputs": [
    {
     "data": {
      "text/plain": [
       "93.33333333333333"
      ]
     },
     "execution_count": 44,
     "metadata": {},
     "output_type": "execute_result"
    }
   ],
   "source": [
    "from sklearn.metrics import accuracy_score\n",
    "\n",
    "accuracy_score(y_test, y_pred)*100"
   ]
  },
  {
   "cell_type": "code",
   "execution_count": 45,
   "metadata": {},
   "outputs": [
    {
     "data": {
      "text/plain": [
       "96.66666666666667"
      ]
     },
     "execution_count": 45,
     "metadata": {},
     "output_type": "execute_result"
    }
   ],
   "source": [
    "accuracy_score(y_train, y_pred_t)*100"
   ]
  },
  {
   "cell_type": "markdown",
   "metadata": {},
   "source": [
    "## 9. Calculate and print the balanced accuracy score for both the training and the testing set."
   ]
  },
  {
   "cell_type": "code",
   "execution_count": 47,
   "metadata": {},
   "outputs": [
    {
     "data": {
      "text/plain": [
       "95.23809523809524"
      ]
     },
     "execution_count": 47,
     "metadata": {},
     "output_type": "execute_result"
    }
   ],
   "source": [
    "from sklearn.metrics import balanced_accuracy_score\n",
    "\n",
    "balanced_accuracy_score(y_test, y_pred)*100"
   ]
  },
  {
   "cell_type": "code",
   "execution_count": 48,
   "metadata": {},
   "outputs": [
    {
     "data": {
      "text/plain": [
       "96.48148148148148"
      ]
     },
     "execution_count": 48,
     "metadata": {},
     "output_type": "execute_result"
    }
   ],
   "source": [
    "balanced_accuracy_score(y_train, y_pred_t)*100"
   ]
  },
  {
   "cell_type": "markdown",
   "metadata": {},
   "source": [
    "## 10. Calculate and print the precision score for both the training and the testing set."
   ]
  },
  {
   "cell_type": "code",
   "execution_count": 56,
   "metadata": {},
   "outputs": [
    {
     "data": {
      "text/plain": [
       "(0.9333333333333333, 0.9666666666666667)"
      ]
     },
     "execution_count": 56,
     "metadata": {},
     "output_type": "execute_result"
    }
   ],
   "source": [
    "from sklearn.metrics import precision_score as prec\n",
    "\n",
    "prec(y_test, y_pred, average='micro'), prec(y_train, y_pred_t, average='micro')"
   ]
  },
  {
   "cell_type": "markdown",
   "metadata": {},
   "source": [
    "## 11. Calculate and print the recall score for both the training and the testing set."
   ]
  },
  {
   "cell_type": "code",
   "execution_count": 59,
   "metadata": {},
   "outputs": [
    {
     "data": {
      "text/plain": [
       "(0.9333333333333333, 0.9666666666666667)"
      ]
     },
     "execution_count": 59,
     "metadata": {},
     "output_type": "execute_result"
    }
   ],
   "source": [
    "from sklearn.metrics import recall_score as rec\n",
    "\n",
    "rec(y_test, y_pred, average='micro'), rec(y_train, y_pred_t, average='micro')"
   ]
  },
  {
   "cell_type": "markdown",
   "metadata": {},
   "source": [
    "## 12. Calculate and print the F1 score for both the training and the testing set."
   ]
  },
  {
   "cell_type": "code",
   "execution_count": 62,
   "metadata": {},
   "outputs": [
    {
     "data": {
      "text/plain": [
       "(0.9333333333333333, 0.9666666666666667)"
      ]
     },
     "execution_count": 62,
     "metadata": {},
     "output_type": "execute_result"
    }
   ],
   "source": [
    "from sklearn.metrics import f1_score as f1\n",
    "\n",
    "f1(y_test, y_pred, average='micro'), f1(y_train, y_pred_t, average='micro')"
   ]
  },
  {
   "cell_type": "markdown",
   "metadata": {},
   "source": [
    "## 13. Generate confusion matrices for both the training and the testing set."
   ]
  },
  {
   "cell_type": "code",
   "execution_count": 66,
   "metadata": {},
   "outputs": [
    {
     "data": {
      "text/plain": [
       "array([[ 6,  0,  0],\n",
       "       [ 0, 10,  0],\n",
       "       [ 0,  2, 12]])"
      ]
     },
     "execution_count": 66,
     "metadata": {},
     "output_type": "execute_result"
    }
   ],
   "source": [
    "from sklearn.metrics import confusion_matrix as cm\n",
    "\n",
    "cm(y_test, y_pred)"
   ]
  },
  {
   "cell_type": "code",
   "execution_count": 67,
   "metadata": {},
   "outputs": [],
   "source": [
    "import matplotlib.pyplot as plt\n",
    "%matplotlib inline\n",
    "import seaborn as sns"
   ]
  },
  {
   "cell_type": "code",
   "execution_count": 69,
   "metadata": {},
   "outputs": [
    {
     "data": {
      "image/png": "[encoded data removed]",
      "text/plain": [
       "<Figure size 1080x576 with 2 Axes>"
      ]
     },
     "metadata": {
      "needs_background": "light"
     },
     "output_type": "display_data"
    }
   ],
   "source": [
    "plt.figure(figsize=(15, 8))\n",
    "\n",
    "ax=sns.heatmap(cm(y_test, y_pred)/sum(sum(cm(y_test, y_pred))), annot=True)\n",
    "\n",
    "plt.title('Matriz confusion')\n",
    "plt.ylabel('Verdad')\n",
    "plt.xlabel('Prediccion')\n",
    "plt.show();"
   ]
  },
  {
   "cell_type": "code",
   "execution_count": 70,
   "metadata": {},
   "outputs": [
    {
     "data": {
      "text/plain": [
       "array([[44,  0,  0],\n",
       "       [ 0, 38,  2],\n",
       "       [ 0,  2, 34]])"
      ]
     },
     "execution_count": 70,
     "metadata": {},
     "output_type": "execute_result"
    }
   ],
   "source": [
    "cm(y_train, y_pred_t)"
   ]
  },
  {
   "cell_type": "code",
   "execution_count": 71,
   "metadata": {},
   "outputs": [
    {
     "data": {
      "image/png": "[encoded data removed]",
      "text/plain": [
       "<Figure size 1080x576 with 2 Axes>"
      ]
     },
     "metadata": {
      "needs_background": "light"
     },
     "output_type": "display_data"
    }
   ],
   "source": [
    "plt.figure(figsize=(15, 8))\n",
    "\n",
    "ax=sns.heatmap(cm(y_train, y_pred_t)/sum(sum(cm(y_train, y_pred_t))), annot=True)\n",
    "\n",
    "plt.title('Matriz confusion')\n",
    "plt.ylabel('Verdad')\n",
    "plt.xlabel('Prediccion')\n",
    "plt.show();"
   ]
  },
  {
   "cell_type": "code",
   "execution_count": null,
   "metadata": {},
   "outputs": [],
   "source": []
  },
  {
   "cell_type": "markdown",
   "metadata": {},
   "source": [
    "## Bonus: For each of the data sets in this lab, try training with some of the other models you have learned about, recalculate the evaluation metrics, and compare to determine which models perform best on each data set."
   ]
  }
 ],
 "metadata": {
  "kernelspec": {
   "display_name": "Python 3 (ipykernel)",
   "language": "python",
   "name": "python3"
  },
  "language_info": {
   "codemirror_mode": {
    "name": "ipython",
    "version": 3
   },
   "file_extension": ".py",
   "mimetype": "text/x-python",
   "name": "python",
   "nbconvert_exporter": "python",
   "pygments_lexer": "ipython3",
   "version": "3.9.12"
  }
 },
 "nbformat": 4,
 "nbformat_minor": 2
}
